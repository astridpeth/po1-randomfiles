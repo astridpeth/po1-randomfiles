{
 "cells": [
  {
   "cell_type": "code",
   "execution_count": 1,
   "metadata": {},
   "outputs": [],
   "source": [
    "using JuMP\n",
    "using GLPK"
   ]
  },
  {
   "cell_type": "markdown",
   "metadata": {},
   "source": [
    "Antes de mais nada, a seguinte convenção\n",
    "\n",
    "$$\\begin{array}{r|l}\\mbox{Raw carrots} & c_1\\\\ \\mbox{Baked potatoes} & c_2 \\\\ \\mbox{Wheat bread} & c_3 \\\\ \\mbox{Cheddar cheese} & c_4 \\\\ \\mbox{Peanut butter} & c_5\\end{array}$$\n",
    "\n",
    "para a quantidade de cada ingrediente na dieta.\n",
    "\n",
    "Queremos resolver o seguinte problema:\n",
    "$$\\min \\sum_{i=1}^5 \\mbox{Cost}_i(c_i)$$\n",
    "\n",
    "sujeito a:\n",
    "\n",
    "$$\\sum_{i=1}^5 \\mbox{Calories}(c_i) \\geq 0\\\\\n",
    "\\sum_{i=1}^5 \\mbox{Fat}(c_i) \\geq 50\\\\\n",
    "\\sum_{i=1}^5 \\mbox{Protein}(c_i) \\geq 100\\\\\n",
    "\\sum_{i=1}^5 \\mbox{Carbohydrates}(c_i) \\geq 250\\\\\n",
    "c_i \\geq 0 \n",
    "$$"
   ]
  },
  {
   "cell_type": "code",
   "execution_count": 2,
   "metadata": {},
   "outputs": [
    {
     "data": {
      "text/plain": [
       "carbo (generic function with 1 method)"
      ]
     },
     "execution_count": 2,
     "metadata": {},
     "output_type": "execute_result"
    }
   ],
   "source": [
    "cost(i) = [0.14, 0.12,0.2,0.75,0.15][i]\n",
    "calories(i) = [23, 171, 65, 112, 188,0,cal][i]\n",
    "fat(i) = [0.1, 0.2,0,9.3,16,50,fat][i]\n",
    "protein(i) = [0.6, 3.7, 2.2, 7,7.7,100,prot][i]\n",
    "carbo(i) = [6,30,13,0,2,250,carb][i]"
   ]
  },
  {
   "cell_type": "code",
   "execution_count": 3,
   "metadata": {},
   "outputs": [
    {
     "ename": "UndefVarError",
     "evalue": "UndefVarError: cal not defined",
     "output_type": "error",
     "traceback": [
      "UndefVarError: cal not defined",
      "",
      "Stacktrace:",
      " [1] calories(::Int64) at ./In[2]:2",
      " [2] macro expansion at /home/matheus/.julia/packages/MutableArithmetics/hS4h3/src/rewrite.jl:224 [inlined]",
      " [3] macro expansion at /home/matheus/.julia/packages/JuMP/Sp4sR/src/macros.jl:380 [inlined]",
      " [4] top-level scope at ./In[3]:11"
     ]
    }
   ],
   "source": [
    "model = Model(GLPK.Optimizer)\n",
    "@variable(model, 0 <= c1)\n",
    "@variable(model, 0 <= c2)\n",
    "@variable(model, 0 <= c3)\n",
    "@variable(model, 0 <= c4)\n",
    "@variable(model, 0 <= c5)\n",
    "\n",
    "@objective(model,Min,cost(1)*c1+cost(2)*c2+cost(3)*c3+cost(4)*c4+cost(5)*c5)\n",
    "\n",
    "for func in [calories, fat, protein, carbo]\n",
    "    @constraint(model,func(1)*c1+func(2)*c2+func(3)*c3+func(4)*c4+func(5)*c5 >= func(6))\n",
    "end"
   ]
  },
  {
   "cell_type": "code",
   "execution_count": 4,
   "metadata": {},
   "outputs": [
    {
     "data": {
      "text/plain": [
       "0.0"
      ]
     },
     "execution_count": 4,
     "metadata": {},
     "output_type": "execute_result"
    }
   ],
   "source": [
    "optimize!(model)\n",
    "objective_value(model)"
   ]
  },
  {
   "cell_type": "code",
   "execution_count": 5,
   "metadata": {},
   "outputs": [
    {
     "data": {
      "text/plain": [
       "5-element Array{Float64,1}:\n",
       " 0.0\n",
       " 0.0\n",
       " 0.0\n",
       " 0.0\n",
       " 0.0"
      ]
     },
     "execution_count": 5,
     "metadata": {},
     "output_type": "execute_result"
    }
   ],
   "source": [
    "[value(c1),value(c2),value(c3),value(c4),value(c5)]"
   ]
  },
  {
   "cell_type": "markdown",
   "metadata": {},
   "source": [
    "# Exercício 2"
   ]
  },
  {
   "cell_type": "markdown",
   "metadata": {},
   "source": [
    "Antes de mais nada, a seguintes convenções:\n",
    "\n",
    "$$\\begin{array}{|r|l|}\\hline\\mbox{Produto} & \\mbox{Quantidade produzida}\\\\ \\hline\\mbox{Skimmed milk} & p_1\\\\ \\mbox{2%} & p_2 \\\\ \\mbox{Whole milk} & p_3 \\\\ \\mbox{Table cream} & p_4 \\\\ \\mbox{Whipping cream} & p_5\\\\ \\hline\\end{array}$$\n",
    "\n",
    "para a quantidade de cada produto produzido.\n",
    "\n",
    "De início, vale notar que temos, efetivamente: $$500\\mathcal{l} \\times (1-0.037) + 250\\mathcal{l} \\times (1-0.049) = 719.25\\mathcal{l}$$\n",
    "\n",
    "de leite. Por conseguinte, temos:\n",
    "$$500\\mathcal{l} \\times 0.037 + 250\\mathcal{l} \\times 0.049 = 30.75\\mathcal{l}$$\n",
    "\n",
    "de gordura totais.\n",
    "\n",
    "Parece ser conveniente fazermos contas análogas da quantidade efetiva de leite e de gordura que cada produto irá precisar.\n",
    "\n",
    "$$\\begin{array}{|r|c|c|l|}\\hline\\mbox{Produto}& \\mbox{Gordura (l)} & \\mbox{Leite (l)} & \\mbox{Profit (\\$)}\\\\ \\hline\n",
    "p_1 & 0 & 2 & 0.1 \\\\ p_2 & 0.04 & 1.96 & 0.15  \\\\ p_3 & 0.08 & 1.92 & 0.2 \\\\ p_4 & 0.09 & 0.51 & 0.5 \\\\ p_5 & 0.135 & 0.165 & 1.2\\\\ \\hline\\end{array}$$ \n",
    "\n",
    "**Tornando nossa notação mais rigorosa.** \n",
    "\n",
    "Seja $\\mathbf{p}\\in \\mathbb{R}^5$ a quantidade produzida de cada produto, $\\mathbf{s}=\\left[0.1\\ 0.15\\ 0.2\\ 0.5\\ 1.2\\right]$ o lucro unitário para cada produto, $\\mathbf{g}=\\left[0\\ 0.04\\ 0.08\\ 0.09\\ 0.135\\right]$ a gordura necessária para uma unidade de cada produto e $\\mathbf{m}=\\left[2\\ 1.96\\ 1.92\\ 0.51\\ 1.65\\right]$ a quantidade de leite necessária para uma unidade de cada produto. \n",
    "\n",
    "Queremos resolver o seguinte problema:\n",
    "$$\\max_{\\mathbf{p}} \\mathbf{p}^\\intercal\\mathbf{s}$$\n",
    "\n",
    "sujeito a:\n",
    "\n",
    "$$\\mathbf{p}^\\intercal \\mathbf{g} \\leq 30.75\\\\ \\mathbf{p}^\\intercal \\mathbf{m} \\leq 719.25 \\\\ \\mathbf{p} \\geq 0$$"
   ]
  },
  {
   "cell_type": "code",
   "execution_count": 6,
   "metadata": {},
   "outputs": [
    {
     "data": {
      "text/latex": [
       "$$ 0.1 p_{1} + 0.15 p_{2} + 0.2 p_{3} + 0.5 p_{4} + 1.2 p_{5} $$"
      ],
      "text/plain": [
       "0.1 p[1] + 0.15 p[2] + 0.2 p[3] + 0.5 p[4] + 1.2 p[5]"
      ]
     },
     "execution_count": 6,
     "metadata": {},
     "output_type": "execute_result"
    }
   ],
   "source": [
    "g = [0, 0.04, 0.08, 0.09, 0.135]\n",
    "s = [0.1, 0.15, 0.2, 0.5, 1.2]\n",
    "m = [2, 1.96, 1.92, 0.51, 1.65]\n",
    "\n",
    "model_ex2 = Model(GLPK.Optimizer)\n",
    "\n",
    "@variable(model_ex2, p[1:5] >= 0)\n",
    "@constraint(model_ex2, sum(p.*g) <= 30.75)\n",
    "@constraint(model_ex2, sum(p.*m) <= 719.25)\n",
    "\n",
    "@objective(model_ex2, Max, sum(p.*s))"
   ]
  },
  {
   "cell_type": "code",
   "execution_count": 7,
   "metadata": {},
   "outputs": [
    {
     "data": {
      "text/plain": [
       "290.50416666666666"
      ]
     },
     "execution_count": 7,
     "metadata": {},
     "output_type": "execute_result"
    }
   ],
   "source": [
    "optimize!(model_ex2)\n",
    "objective_value(model_ex2)"
   ]
  },
  {
   "cell_type": "code",
   "execution_count": 8,
   "metadata": {},
   "outputs": [
    {
     "data": {
      "text/plain": [
       "5-element Array{Float64,1}:\n",
       " 171.70833333333334\n",
       "   0.0             \n",
       "   0.0             \n",
       "   0.0             \n",
       " 227.77777777777777"
      ]
     },
     "execution_count": 8,
     "metadata": {},
     "output_type": "execute_result"
    }
   ],
   "source": [
    "value.(p)"
   ]
  },
  {
   "cell_type": "markdown",
   "metadata": {},
   "source": [
    "### **b)** Considere agora que skimmed milk pode agora conter até $0.1%$ de gordura. Em que a formulação do problema muda?\n",
    "\n",
    "Tudo muda que agora temos uma variável $t\\in[0,\\ 0.1]$ que gera a seguinte tabela:\n",
    "$$\\begin{array}{|r|c|c|l|}\\hline\\mbox{Produto}& \\mbox{Gordura (l)} & \\mbox{Leite (l)} & \\mbox{Profit (\\$)}\\\\ \\hline\n",
    "p_1 & 2t & 2(1-t) & 0.1 \\\\ p_2 & 0.04 & 1.96 & 0.15  \\\\ p_3 & 0.08 & 1.92 & 0.2 \\\\ p_4 & 0.09 & 0.51 & 0.5 \\\\ p_5 & 0.135 & 0.165 & 1.2\\\\ \\hline\\end{array}$$ \n",
    "\n",
    "O problema de otimização é o mesmo, acrescido de $t$ como variável de decisão.\n",
    "\n",
    "Seja $\\mathbf{p}\\in \\mathbb{R}^5$ a quantidade produzida de cada produto, $\\mathbf{s}=\\left[0.1\\ 0.15\\ 0.2\\ 0.5\\ 1.2\\right]$ o lucro unitário para cada produto, $\\mathbf{g}=\\left[2t\\ 0.04\\ 0.08\\ 0.09\\ 0.135\\right]$ a gordura necessária para uma unidade de cada produto e $\\mathbf{m}=\\left[2(1-t)\\ 1.96\\ 1.92\\ 0.51\\ 1.65\\right]$ a quantidade de leite necessária para uma unidade de cada produto. \n",
    "\n",
    "**O problema agora é que deixou de ser otimização linear!!!**\n",
    "\n",
    "Então precisamos de algum truque!\n",
    "\n",
    "Adicionamos a variável $\\lambda = 2p_1t$ do problema acima e apenas coloca a restrição\n",
    "\n",
    "$$\\max_{\\{\\mathbf{p},\\lambda\\}} \\mathbf{p}^\\intercal\\mathbf{s}$$\n",
    "\n",
    "sujeito a:\n",
    "\n",
    "$$\\mathbf{p}^\\intercal \\mathbf{g} \\leq 30.75 - \\lambda\\\\ \\mathbf{p}^\\intercal \\mathbf{m} \\leq  719.25 + \\lambda\\\\ \\mathbf{p} \\geq 0 \\\\\\ 0\\leq \\lambda \\leq 0.002p_1 $$"
   ]
  },
  {
   "cell_type": "code",
   "execution_count": 19,
   "metadata": {},
   "outputs": [
    {
     "data": {
      "text/plain": [
       "290.50416666666666"
      ]
     },
     "execution_count": 19,
     "metadata": {},
     "output_type": "execute_result"
    }
   ],
   "source": [
    "g = [0, 0.04, 0.08, 0.09, 0.135]\n",
    "s = [0.1, 0.15, 0.2, 0.5, 1.2]\n",
    "m = [2, 1.96, 1.92, 0.51, 1.65]\n",
    "\n",
    "model_ex2b = Model(GLPK.Optimizer)\n",
    "@variable(model_ex2b, λ>=0)\n",
    "@variable(model_ex2b, p[1:5] >= 0)\n",
    "@constraint(model_ex2b, sum(p.*g) <= 30.75 - λ)\n",
    "@constraint(model_ex2b, sum(p.*m) <= 719.25 + λ)\n",
    "\n",
    "@objective(model_ex2b, Max, sum(p.*s))\n",
    "\n",
    "optimize!(model_ex2b)\n",
    "objective_value(model_ex2b)"
   ]
  },
  {
   "cell_type": "code",
   "execution_count": 20,
   "metadata": {},
   "outputs": [
    {
     "data": {
      "text/plain": [
       "5-element Array{Float64,1}:\n",
       " 171.70833333333334\n",
       "   0.0             \n",
       "   0.0             \n",
       "   0.0             \n",
       " 227.77777777777777"
      ]
     },
     "execution_count": 20,
     "metadata": {},
     "output_type": "execute_result"
    }
   ],
   "source": [
    "value.(p) #tá certo???"
   ]
  },
  {
   "cell_type": "code",
   "execution_count": 21,
   "metadata": {},
   "outputs": [
    {
     "data": {
      "text/plain": [
       "0.0"
      ]
     },
     "execution_count": 21,
     "metadata": {},
     "output_type": "execute_result"
    }
   ],
   "source": [
    "value(λ) "
   ]
  },
  {
   "cell_type": "markdown",
   "metadata": {},
   "source": [
    "# Ideia: adicionar uma nova variável pra todo mundo"
   ]
  },
  {
   "cell_type": "markdown",
   "metadata": {},
   "source": [
    "# Exercício 3"
   ]
  },
  {
   "cell_type": "markdown",
   "metadata": {},
   "source": [
    "Antes de mais nada, a seguinte convenção:\n",
    "\n",
    "$$\\begin{array}{|c|c|}\\hline\\mbox{Nome} & \\mbox{Variável} \\\\ \\hline \\mbox{Tom} & e_1\\\\\n",
    "\\mbox{Peter} & e_2 \\\\ \\mbox{Nina} & e_3 \\\\ \\mbox{Samir} & e_4 \\\\ \\mbox{Gary} & e_5 \\\\ \\mbox{Linda} & e_6 \\\\ \\mbox{Bob} & e_7\\\\ \\hline\\end{array}\n",
    "$$"
   ]
  },
  {
   "cell_type": "markdown",
   "metadata": {},
   "source": [
    "O problema de programação linear é o seguinte:\n",
    "\n",
    "$$\\min_{\\{e_1,e_2,e_3,e_4,e_5,e_6,e_7\\}} \\sum_{i=1}^7 e_i$$"
   ]
  },
  {
   "cell_type": "markdown",
   "metadata": {},
   "source": [
    "Sujeito à:\n",
    "$$\\begin{align*}\n",
    "e_1&\\geq20000 \\\\\n",
    "e_2,e_3,e_4&\\geq 5000+e_1\\\\\n",
    "e_5 &\\geq e_1+e_2\\\\\n",
    "e_6 &= e_5 + 200\\\\\n",
    "e_3+e_4 &\\geq 2(e_1+e_2)\\\\\n",
    "e_7 &\\geq e_2\\\\\n",
    "e_7 &\\geq e_4\\\\\n",
    "e_7+e_2&\\geq 60000\\\\\n",
    "e_6 &\\leq e_7+e_1\\\\\n",
    "e_i&\\geq 0\n",
    "\\end{align*}$$"
   ]
  },
  {
   "cell_type": "code",
   "execution_count": 11,
   "metadata": {},
   "outputs": [
    {
     "data": {
      "text/latex": [
       "$ e_{6} - e_{7} - e_{1} \\leq 0.0 $"
      ],
      "text/plain": [
       "e[6] - e[7] - e[1] ≤ 0.0"
      ]
     },
     "execution_count": 11,
     "metadata": {},
     "output_type": "execute_result"
    }
   ],
   "source": [
    "model3 = Model(GLPK.Optimizer)\n",
    "\n",
    "@variable(model3, e[1:7]>=0)\n",
    "    \n",
    "@objective(model3, Min, sum(e))\n",
    "\n",
    "@constraint(model3, e[1] >= 20000)\n",
    "@constraint(model3, e[2] >= 5000 + e[1])\n",
    "@constraint(model3, e[3] >= 5000 + e[1])\n",
    "@constraint(model3, e[4] >= 5000 + e[1])\n",
    "@constraint(model3, e[5] >= e[1] + e[2])\n",
    "@constraint(model3, e[3] + e[4] >= 2(e[1]+e[2]))\n",
    "@constraint(model3, e[6] == (e[5] + 200))\n",
    "@constraint(model3, e[7] >= e[2])\n",
    "@constraint(model3, e[7] >= e[4])\n",
    "@constraint(model3, e[7] + e[2] >= 60000)\n",
    "@constraint(model3, e[6] <= e[7] + e[1])"
   ]
  },
  {
   "cell_type": "code",
   "execution_count": 12,
   "metadata": {},
   "outputs": [
    {
     "data": {
      "text/plain": [
       "260200.0"
      ]
     },
     "execution_count": 12,
     "metadata": {},
     "output_type": "execute_result"
    }
   ],
   "source": [
    "optimize!(model3)\n",
    "objective_value(model3)"
   ]
  },
  {
   "cell_type": "code",
   "execution_count": 13,
   "metadata": {},
   "outputs": [
    {
     "data": {
      "text/plain": [
       "7-element Array{Float64,1}:\n",
       " 20000.0\n",
       " 25000.0\n",
       " 55000.0\n",
       " 35000.0\n",
       " 45000.0\n",
       " 45200.0\n",
       " 35000.0"
      ]
     },
     "execution_count": 13,
     "metadata": {},
     "output_type": "execute_result"
    }
   ],
   "source": [
    "value.(e)"
   ]
  },
  {
   "cell_type": "markdown",
   "metadata": {},
   "source": [
    "Ou seja, teremos a seguinte tabela de rendimentos:\n",
    "$$\\begin{array}{|c|c|}\\hline\\mbox{Nome} & \\mbox{Salário} \\\\ \\hline \\mbox{Tom} & 20000\\\\\n",
    "\\mbox{Peter} & 25000 \\\\ \\mbox{Nina} & 55000 \\\\ \\mbox{Samir} & 35000 \\\\ \\mbox{Gary} & 45000 \\\\ \\mbox{Linda} & 45200\\\\ \\mbox{Bob} & 35000\\\\ \\hline\\end{array}\n",
    "$$"
   ]
  },
  {
   "cell_type": "markdown",
   "metadata": {},
   "source": [
    "# Agora minimize o salário máximo"
   ]
  },
  {
   "cell_type": "code",
   "execution_count": 14,
   "metadata": {},
   "outputs": [],
   "source": [
    "model3 = Model(GLPK.Optimizer)\n",
    "\n",
    "@variable(model3, e[1:7]>=0)\n",
    "@variable(model3, aux) #tive spoilers\n",
    "@objective(model3, Min, aux)\n",
    "@constraint(model3, e[1] >= 20000)\n",
    "@constraint(model3, e[2] >= 5000 + e[1])\n",
    "@constraint(model3, e[3] >= 5000 + e[1])\n",
    "@constraint(model3, e[4] >= 5000 + e[1])\n",
    "@constraint(model3, e[5] >= e[1] + e[2])\n",
    "@constraint(model3, e[3] + e[4] >= 2*(e[1]+e[2]))\n",
    "@constraint(model3, e[6] == (e[5] + 200))\n",
    "@constraint(model3, e[7] >= e[2])\n",
    "@constraint(model3, e[7] >= e[4])\n",
    "@constraint(model3, e[7] + e[2] >= 60000)\n",
    "@constraint(model3, e[6] <= e[7] + e[1])\n",
    "\n",
    "for i=1:7\n",
    "    @constraint(model3, aux >= e[i])\n",
    "end"
   ]
  },
  {
   "cell_type": "code",
   "execution_count": 15,
   "metadata": {},
   "outputs": [
    {
     "data": {
      "text/plain": [
       "45200.0"
      ]
     },
     "execution_count": 15,
     "metadata": {},
     "output_type": "execute_result"
    }
   ],
   "source": [
    "optimize!(model3)\n",
    "objective_value(model3)"
   ]
  },
  {
   "cell_type": "code",
   "execution_count": 16,
   "metadata": {},
   "outputs": [
    {
     "data": {
      "text/plain": [
       "7-element Array{Float64,1}:\n",
       " 20000.0\n",
       " 25000.0\n",
       " 45200.0\n",
       " 44800.0\n",
       " 45000.0\n",
       " 45200.0\n",
       " 44800.0"
      ]
     },
     "execution_count": 16,
     "metadata": {},
     "output_type": "execute_result"
    }
   ],
   "source": [
    "value.(e)"
   ]
  },
  {
   "cell_type": "code",
   "execution_count": 17,
   "metadata": {},
   "outputs": [
    {
     "data": {
      "text/plain": [
       "270000.0"
      ]
     },
     "execution_count": 17,
     "metadata": {},
     "output_type": "execute_result"
    }
   ],
   "source": [
    "sum(value.(e))"
   ]
  },
  {
   "cell_type": "code",
   "execution_count": null,
   "metadata": {},
   "outputs": [],
   "source": []
  }
 ],
 "metadata": {
  "kernelspec": {
   "display_name": "Julia 1.0.3",
   "language": "julia",
   "name": "julia-1.0"
  },
  "language_info": {
   "file_extension": ".jl",
   "mimetype": "application/julia",
   "name": "julia",
   "version": "1.0.3"
  }
 },
 "nbformat": 4,
 "nbformat_minor": 2
}
