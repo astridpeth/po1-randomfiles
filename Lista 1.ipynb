{
 "cells": [
  {
   "cell_type": "code",
   "execution_count": 3,
   "metadata": {},
   "outputs": [],
   "source": [
    "using JuMP\n",
    "using GLPK"
   ]
  },
  {
   "cell_type": "markdown",
   "metadata": {},
   "source": [
    "Antes de mais nada, a seguinte convenção\n",
    "\n",
    "$$\\begin{array}{r|l}\\mbox{Raw carrots} & c_1\\\\ \\mbox{Baked potatoes} & c_2 \\\\ \\mbox{Wheat bread} & c_3 \\\\ \\mbox{Cheddar cheese} & c_4 \\\\ \\mbox{Peanut butter} & c_5\\end{array}$$\n",
    "\n",
    "para a quantidade de cada ingrediente na dieta.\n",
    "\n",
    "Queremos resolver o seguinte problema:\n",
    "$$\\min \\sum_{i=1}^5 \\mbox{Cost}_i(c_i)$$\n",
    "\n",
    "sujeito a:\n",
    "\n",
    "$$\\sum_{i=1}^5 \\mbox{Calories}(c_i) \\geq 0\\\\\n",
    "\\sum_{i=1}^5 \\mbox{Fat}(c_i) \\geq 50\\\\\n",
    "\\sum_{i=1}^5 \\mbox{Protein}(c_i) \\geq 100\\\\\n",
    "\\sum_{i=1}^5 \\mbox{Carbohydrates}(c_i) \\geq 250\\\\\n",
    "c_i \\geq 0 \n",
    "$$"
   ]
  },
  {
   "cell_type": "code",
   "execution_count": 3,
   "metadata": {},
   "outputs": [
    {
     "data": {
      "text/plain": [
       "carbo (generic function with 1 method)"
      ]
     },
     "execution_count": 3,
     "metadata": {},
     "output_type": "execute_result"
    }
   ],
   "source": [
    "cost(i) = [0.14, 0.12,0.2,0.75,0.15][i]\n",
    "calories(i) = [23, 171, 65, 112, 188,0,cal][i]\n",
    "fat(i) = [0.1, 0.2,0,9.3,16,50,fat][i]\n",
    "protein(i) = [0.6, 3.7, 2.2, 7,7.7,100,prot][i]\n",
    "carbo(i) = [6,30,13,0,2,250,carb][i]"
   ]
  },
  {
   "cell_type": "code",
   "execution_count": 13,
   "metadata": {},
   "outputs": [],
   "source": [
    "model = Model(GLPK.Optimizer)\n",
    "@variable(model, 0 <= c1)\n",
    "@variable(model, 0 <= c2)\n",
    "@variable(model, 0 <= c3)\n",
    "@variable(model, 0 <= c4)\n",
    "@variable(model, 0 <= c5)\n",
    "\n",
    "@objective(model,Min,cost(1)*c1+cost(2)*c2+cost(3)*c3+cost(4)*c4+cost(5)*c5)\n",
    "\n",
    "for func in [calories, fat, protein, carbo]\n",
    "    @constraint(model,func(1)*c1+func(2)*c2+func(3)*c3+func(4)*c4+func(5)*c5 >= func(6))\n",
    "end"
   ]
  },
  {
   "cell_type": "code",
   "execution_count": 23,
   "metadata": {},
   "outputs": [
    {
     "data": {
      "text/plain": [
       "2.317754919499105"
      ]
     },
     "execution_count": 23,
     "metadata": {},
     "output_type": "execute_result"
    }
   ],
   "source": [
    "optimize!(model)\n",
    "objective_value(model)"
   ]
  },
  {
   "cell_type": "code",
   "execution_count": 25,
   "metadata": {},
   "outputs": [
    {
     "data": {
      "text/plain": [
       "5-element Array{Float64,1}:\n",
       " 0.0              \n",
       " 7.714669051878355\n",
       " 0.0              \n",
       " 0.0              \n",
       " 9.279964221824685"
      ]
     },
     "execution_count": 25,
     "metadata": {},
     "output_type": "execute_result"
    }
   ],
   "source": [
    "[value(c1),value(c2),value(c3),value(c4),value(c5)]"
   ]
  },
  {
   "cell_type": "markdown",
   "metadata": {},
   "source": [
    "# Exercício 2"
   ]
  },
  {
   "cell_type": "markdown",
   "metadata": {},
   "source": [
    "Antes de mais nada, a seguintes convenções:\n",
    "\n",
    "$$\\begin{array}{|r|l|}\\hline\\mbox{Produto} & \\mbox{Quantidade produzida}\\\\ \\hline\\mbox{Skimmed milk} & p_1\\\\ \\mbox{2%} & p_2 \\\\ \\mbox{Whole milk} & p_3 \\\\ \\mbox{Table cream} & p_4 \\\\ \\mbox{Whipping cream} & p_5\\\\ \\hline\\end{array}$$\n",
    "\n",
    "para a quantidade de cada produto produzido.\n",
    "\n",
    "De início, vale notar que temos, efetivamente: $$500\\mathcal{l} \\times (1-0.037) + 250\\mathcal{l} \\times (1-0.049) = 719.25\\mathcal{l}$$\n",
    "\n",
    "de leite. Por conseguinte, temos:\n",
    "$$500\\mathcal{l} \\times 0.037 + 250\\mathcal{l} \\times 0.049 = 30.75\\mathcal{l}$$\n",
    "\n",
    "de gordura totais.\n",
    "\n",
    "Parece ser conveniente fazermos contas análogas da quantidade efetiva de leite e de gordura que cada produto irá precisar.\n",
    "\n",
    "$$\\begin{array}{|r|c|c|l|}\\hline\\mbox{Produto}& \\mbox{Gordura (l)} & \\mbox{Leite (l)} & \\mbox{Profit (\\$)}\\\\ \\hline\n",
    "p_1 & 0 & 2 & 0.1 \\\\ p_2 & 0.04 & 1.96 & 0.15  \\\\ p_3 & 0.08 & 1.92 & 0.2 \\\\ p_4 & 0.09 & 0.51 & 0.5 \\\\ p_5 & 0.135 & 0.165 & 1.2\\\\ \\hline\\end{array}$$ \n",
    "\n",
    "**Tornando nossa notação mais rigorosa.** \n",
    "\n",
    "Seja $\\mathbf{p}\\in \\mathbb{R}^5$ a quantidade produzida de cada produto, $\\mathbf{s}=\\left[0.1\\ 0.15\\ 0.2\\ 0.5\\ 1.2\\right]$ o lucro unitário para cada produto, $\\mathbf{g}=\\left[0\\ 0.04\\ 0.08\\ 0.09\\ 0.135\\right]$ a gordura necessária para uma unidade de cada produto e $\\mathbf{m}=\\left[2\\ 1.96\\ 1.92\\ 0.51\\ 1.65\\right]$ a quantidade de leite necessária para uma unidade de cada produto. \n",
    "\n",
    "Queremos resolver o seguinte problema:\n",
    "$$\\max_{\\mathbf{p}} \\mathbf{p}^\\intercal\\mathbf{s}$$\n",
    "\n",
    "sujeito a:\n",
    "\n",
    "$$\\mathbf{p}^\\intercal \\mathbf{g} \\leq 30.75\\\\ \\mathbf{p}^\\intercal \\mathbf{m} \\leq 719.25 \\\\ \\mathbf{p} \\geq 0$$"
   ]
  },
  {
   "cell_type": "code",
   "execution_count": 18,
   "metadata": {},
   "outputs": [
    {
     "data": {
      "text/latex": [
       "$$ 0.1 p_{1} + 0.15 p_{2} + 0.2 p_{3} + 0.5 p_{4} + 1.2 p_{5} $$"
      ],
      "text/plain": [
       "0.1 p[1] + 0.15 p[2] + 0.2 p[3] + 0.5 p[4] + 1.2 p[5]"
      ]
     },
     "execution_count": 18,
     "metadata": {},
     "output_type": "execute_result"
    }
   ],
   "source": [
    "g = [0, 0.04, 0.08, 0.09, 0.135]\n",
    "s = [0.1, 0.15, 0.2, 0.5, 1.2]\n",
    "m = [2, 1.96, 1.92, 0.51, 1.65]\n",
    "\n",
    "model_ex2 = Model(GLPK.Optimizer)\n",
    "\n",
    "@variable(model_ex2, p[1:5] >= 0)\n",
    "@constraint(model_ex2, sum(p.*g) <= 30.75)\n",
    "@constraint(model_ex2, sum(p.*m) <= 719.25)\n",
    "\n",
    "@objective(model_ex2, Max, sum(p.*s))"
   ]
  },
  {
   "cell_type": "code",
   "execution_count": 19,
   "metadata": {},
   "outputs": [
    {
     "data": {
      "text/plain": [
       "0.0"
      ]
     },
     "execution_count": 19,
     "metadata": {},
     "output_type": "execute_result"
    }
   ],
   "source": [
    "optimize!(model)\n",
    "objective_value(model)"
   ]
  },
  {
   "cell_type": "code",
   "execution_count": 20,
   "metadata": {},
   "outputs": [
    {
     "data": {
      "text/plain": [
       "5-element Array{VariableRef,1}:\n",
       " p[1]\n",
       " p[2]\n",
       " p[3]\n",
       " p[4]\n",
       " p[5]"
      ]
     },
     "execution_count": 20,
     "metadata": {},
     "output_type": "execute_result"
    }
   ],
   "source": [
    "p"
   ]
  },
  {
   "cell_type": "code",
   "execution_count": null,
   "metadata": {},
   "outputs": [],
   "source": []
  }
 ],
 "metadata": {
  "kernelspec": {
   "display_name": "Julia 1.0.3",
   "language": "julia",
   "name": "julia-1.0"
  },
  "language_info": {
   "file_extension": ".jl",
   "mimetype": "application/julia",
   "name": "julia",
   "version": "1.0.3"
  }
 },
 "nbformat": 4,
 "nbformat_minor": 2
}
